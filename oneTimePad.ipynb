{
 "cells": [
  {
   "cell_type": "code",
   "execution_count": 1,
   "id": "46d5d65f-3c00-4dea-b7bd-b20bb3bc7b88",
   "metadata": {
    "tags": []
   },
   "outputs": [],
   "source": [
    "import string\n",
    "import math"
   ]
  },
  {
   "cell_type": "code",
   "execution_count": 2,
   "id": "76de2037-1c03-430b-a9b6-8c22ae6099a8",
   "metadata": {
    "tags": []
   },
   "outputs": [],
   "source": [
    "def encrypt(text_num, key_num, alphabets, length_of_text):\n",
    "    sum_num = [text_num[i]+key_num[i] for i in range(length_of_text)]\n",
    "\n",
    "    for i in range(length_of_text):\n",
    "        if sum_num[i] > 26:\n",
    "            sum_num[i] = sum_num[i]%26\n",
    "    \n",
    "    cipher = \"\".join(alphabets[i] for i in sum_num)\n",
    "    return cipher\n",
    "\n",
    "def decrypt(text_num, key_num, alphabets, length_of_text):\n",
    "    sub_num = [text_num[i]-key_num[i] for i in range(length_of_text)]\n",
    "    for i in range(length_of_text):\n",
    "        if sub_num[i] <= 0:\n",
    "            sub_num[i] = 26 + sub_num[i]\n",
    "\n",
    "    plain = \"\".join(alphabets[i] for i in sub_num)\n",
    "    return plain\n",
    "\n",
    "\n",
    "def keyPreprocessing(text, key):\n",
    "    if len(text) > len(key):\n",
    "        different = len(text) - len(key)\n",
    "        for i in range(math.ceil(different/len(key))):\n",
    "            key+=key2\n",
    "\n",
    "    key_num = []\n",
    "    for i in key:\n",
    "        key_num.append(alphabets.index(i))\n",
    "    return key_num\n",
    "    \n",
    "    \n",
    "def textPreprocessing(text):\n",
    "    text_num = []\n",
    "    for i in text:\n",
    "        text_num.append(alphabets.index(i))\n",
    "    return text_num"
   ]
  },
  {
   "cell_type": "code",
   "execution_count": 3,
   "id": "b4879b6d-d518-4f96-906c-a8a79cee598f",
   "metadata": {
    "tags": []
   },
   "outputs": [],
   "source": [
    "alphabets = [\"#\"] + list(string.ascii_uppercase)\n",
    "\n",
    "text = 'SCOCIALMEDIA'\n",
    "key = 'SECURITY'\n",
    "key2 = key"
   ]
  },
  {
   "cell_type": "code",
   "execution_count": 4,
   "id": "60683942-c161-486d-8eca-6089aada5b4a",
   "metadata": {
    "tags": []
   },
   "outputs": [
    {
     "name": "stdout",
     "output_type": "stream",
     "text": [
      "Cipher Text:LHRXAJFLXILV\n"
     ]
    }
   ],
   "source": [
    "print(f'Cipher Text:{encrypt(textPreprocessing(text), keyPreprocessing(text, key), alphabets, len(text))}')"
   ]
  },
  {
   "cell_type": "code",
   "execution_count": 5,
   "id": "c0d69d69-4d8f-44a0-9fe1-421648a14659",
   "metadata": {
    "tags": []
   },
   "outputs": [],
   "source": [
    "# text = 'LHRXAJFLXILV'\n",
    "# text_num = textPreprocessing(text)"
   ]
  },
  {
   "cell_type": "code",
   "execution_count": 6,
   "id": "10771f14-f595-40c3-85df-5bb895a1dc21",
   "metadata": {
    "tags": []
   },
   "outputs": [
    {
     "name": "stdout",
     "output_type": "stream",
     "text": [
      "Plain Text:SCOCIALMEDIA\n"
     ]
    }
   ],
   "source": [
    "print(f'Plain Text:{decrypt(textPreprocessing(encrypt(textPreprocessing(text), keyPreprocessing(text, key), alphabets, len(text))), keyPreprocessing(text, key), alphabets, len(text))}')      "
   ]
  }
 ],
 "metadata": {
  "kernelspec": {
   "display_name": "Python 3 (ipykernel)",
   "language": "python",
   "name": "python3"
  },
  "language_info": {
   "codemirror_mode": {
    "name": "ipython",
    "version": 3
   },
   "file_extension": ".py",
   "mimetype": "text/x-python",
   "name": "python",
   "nbconvert_exporter": "python",
   "pygments_lexer": "ipython3",
   "version": "3.11.3"
  }
 },
 "nbformat": 4,
 "nbformat_minor": 5
}
