{
 "cells": [
  {
   "cell_type": "markdown",
   "id": "767f7a7e-1a9b-475c-bcd7-35aaee4a6a5e",
   "metadata": {},
   "source": [
    "This code imports the string and math modules into the current Python environment. \n",
    "The string module provides a number of useful constants and functions for working\n",
    "with strings, while the math moduleprovides a comprehensive set of mathematical functions."
   ]
  },
  {
   "cell_type": "code",
   "execution_count": 1,
   "id": "46d5d65f-3c00-4dea-b7bd-b20bb3bc7b88",
   "metadata": {
    "tags": []
   },
   "outputs": [],
   "source": [
    "import string\n",
    "import math"
   ]
  },
  {
   "cell_type": "markdown",
   "id": "9f472af7-5902-4709-829b-e954a7a0d918",
   "metadata": {},
   "source": [
    "This function takes text as numeric positions in an alphabet list, adds those positions with key positions (also from the same alphabet list), then creates ciphertext by converting those sums back to alphabet characters. It ensures sums remain within alphabet range (0-25) by utilizing modulo operation for any exceeding value."
   ]
  },
  {
   "cell_type": "code",
   "execution_count": 2,
   "id": "55614e43-0f7a-4fee-adfc-266035c9d1ef",
   "metadata": {},
   "outputs": [],
   "source": [
    "def encrypt(text_num, key_num, alphabets, length_of_text):\n",
    "    sum_num = [text_num[i]+key_num[i] for i in range(length_of_text)]\n",
    "\n",
    "    for i in range(length_of_text):\n",
    "        if sum_num[i] > 26:\n",
    "            sum_num[i] = sum_num[i]%26\n",
    "    \n",
    "    cipher = \"\".join(alphabets[i] for i in sum_num)\n",
    "    return cipher"
   ]
  },
  {
   "cell_type": "markdown",
   "id": "6f1748f2-38ca-4f00-be24-9e766ec68f71",
   "metadata": {},
   "source": [
    "The decrypt function takes a ciphertext string, a key string, and a list of alphabets as input and returns the decrypted version of the ciphertext string. It works by subtracting the corresponding elements of the ciphertext and key numbers, then modulating the results to ensure they stay within the range of the alphabet. Finally, it generates the plaintext by joining the corresponding characters from the alphabets list."
   ]
  },
  {
   "cell_type": "code",
   "execution_count": 3,
   "id": "871d0c89-74f9-4677-91fa-819d99d6aa82",
   "metadata": {},
   "outputs": [],
   "source": [
    "def decrypt(text_num, key_num, alphabets, length_of_text):\n",
    "    sub_num = [text_num[i]-key_num[i] for i in range(length_of_text)]\n",
    "    for i in range(length_of_text):\n",
    "        if sub_num[i] <= 0:\n",
    "            sub_num[i] = 26 + sub_num[i]\n",
    "\n",
    "    plain = \"\".join(alphabets[i] for i in sub_num)\n",
    "    return plain"
   ]
  },
  {
   "cell_type": "markdown",
   "id": "49ef965c-32fd-43cc-8b6d-876fb5436b46",
   "metadata": {},
   "source": [
    "The keyPreprocessing function ensures that the key has the same length as the text by extending it with copies of itself\n",
    "if necessary. It then converts the characters of the key into their corresponding numerical positions in the alphabet list."
   ]
  },
  {
   "cell_type": "code",
   "execution_count": 4,
   "id": "22b68363-caf9-401d-83a9-787e57c79e5d",
   "metadata": {},
   "outputs": [],
   "source": [
    "def keyPreprocessing(text, key):\n",
    "    if len(text) > len(key):\n",
    "        different = len(text) - len(key)\n",
    "        for i in range(math.ceil(different/len(key))):\n",
    "            key+=key2\n",
    "\n",
    "    key_num = []\n",
    "    for i in key:\n",
    "        key_num.append(alphabets.index(i))\n",
    "    return key_num"
   ]
  },
  {
   "cell_type": "markdown",
   "id": "65cdce1b-7861-4fb0-82c8-f84bc583aee9",
   "metadata": {},
   "source": [
    "The textPreprocessing function converts the characters of the text into their corresponding numerical positions in the\n",
    "alphabet list. This creates a list of integers that can be used for further processing, such as encryptionor decryption."
   ]
  },
  {
   "cell_type": "code",
   "execution_count": 5,
   "id": "cc38e253-6c41-4c1e-80b8-98fa84d2bb40",
   "metadata": {
    "tags": []
   },
   "outputs": [],
   "source": [
    "def textPreprocessing(text):\n",
    "    text_num = []\n",
    "    for i in text:\n",
    "        text_num.append(alphabets.index(i))\n",
    "    return text_num"
   ]
  },
  {
   "cell_type": "code",
   "execution_count": 27,
   "id": "b4879b6d-d518-4f96-906c-a8a79cee598f",
   "metadata": {
    "tags": []
   },
   "outputs": [],
   "source": [
    "alphabets = [\"#\"] + list(string.ascii_lowercase)\n",
    "\n",
    "text = 'helloesmat'\n",
    "key = 'esmat'\n",
    "key2 = key"
   ]
  },
  {
   "cell_type": "code",
   "execution_count": 28,
   "id": "60683942-c161-486d-8eca-6089aada5b4a",
   "metadata": {
    "tags": []
   },
   "outputs": [
    {
     "name": "stdout",
     "output_type": "stream",
     "text": [
      "Cipher Text:mxymijlzbn\n"
     ]
    }
   ],
   "source": [
    "print(f'Cipher Text:{encrypt(textPreprocessing(text), keyPreprocessing(text, key), alphabets, len(text))}')"
   ]
  },
  {
   "cell_type": "code",
   "execution_count": 29,
   "id": "10771f14-f595-40c3-85df-5bb895a1dc21",
   "metadata": {
    "tags": []
   },
   "outputs": [
    {
     "name": "stdout",
     "output_type": "stream",
     "text": [
      "Plain Text:helloesmat\n"
     ]
    }
   ],
   "source": [
    "print(f'Plain Text:{decrypt(textPreprocessing(encrypt(textPreprocessing(text), keyPreprocessing(text, key), alphabets, len(text))), keyPreprocessing(text, key), alphabets, len(text))}')      "
   ]
  }
 ],
 "metadata": {
  "kernelspec": {
   "display_name": "Python 3 (ipykernel)",
   "language": "python",
   "name": "python3"
  },
  "language_info": {
   "codemirror_mode": {
    "name": "ipython",
    "version": 3
   },
   "file_extension": ".py",
   "mimetype": "text/x-python",
   "name": "python",
   "nbconvert_exporter": "python",
   "pygments_lexer": "ipython3",
   "version": "3.11.3"
  }
 },
 "nbformat": 4,
 "nbformat_minor": 5
}
