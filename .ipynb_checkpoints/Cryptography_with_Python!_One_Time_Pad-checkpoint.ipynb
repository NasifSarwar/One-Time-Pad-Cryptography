{
  "nbformat": 4,
  "nbformat_minor": 0,
  "metadata": {
    "colab": {
      "name": "Cryptography with Python! One-Time Pad FULL.ipynb",
      "provenance": [],
      "collapsed_sections": []
    },
    "kernelspec": {
      "name": "python3",
      "display_name": "Python 3"
    },
    "language_info": {
      "name": "python"
    }
  },
  "cells": [
    {
      "cell_type": "code",
      "metadata": {
        "id": "SQX1eMALnEkC"
      },
      "source": [
        "import secrets\n",
        "import string"
      ],
      "execution_count": 1,
      "outputs": []
    },
    {
      "cell_type": "markdown",
      "metadata": {
        "id": "ykl643MRFzxN"
      },
      "source": [
        "# **What is a One Time-Pad?**\n",
        "\n",
        "**The one-time pad is an encryption technique that transforms plaintext to ciphertext.**\n",
        "\n",
        "**Given a plaintext message, the one-time pad encrypts the plaintext with a randomly generated key that is at least as long as the length of the plaintext, if not longer. In order for the one-time pad to stay secure, a key that is generated randomly cannot be used more than once, hence the name of the encryption technique.**\n",
        "\n"
      ]
    },
    {
      "cell_type": "markdown",
      "metadata": {
        "id": "24PnrvoSRpkg"
      },
      "source": [
        "$\\text{One-Time Pad Encryption}: E(k, p) \\rightarrow c$\n",
        "\n",
        "$\\text{One-Time Pad Decryption}: De(k, c) \\rightarrow p$\n",
        "\n",
        "$\\text{Where: } E = \\text{Encryption}, D = \\text{Decryption}, k = \\text{randomly generated key}, p = \\text{plaintext}, c = \\text{ciphertext}$"
      ]
    },
    {
      "cell_type": "markdown",
      "metadata": {
        "id": "FLxwTwvQXwS0"
      },
      "source": [
        "<sup>Source: Lecture - [Introduction to Cryptography](https://www.cs.purdue.edu/homes/ninghui/courses/Fall05/lectures/355_Fall05_lect09.pdf) from Purdue University by Ninghui Li</sup>\n",
        "\n",
        "<sup>Source: Lecture - [Perfect Secrecy, One Time Pad, Randomness](https://www.cs.umd.edu/~gasarch/COURSES/456/F18/lecps/lecps.pdf) University of Maryland Course by William Gasarch</sup>"
      ]
    },
    {
      "cell_type": "markdown",
      "metadata": {
        "id": "5RG9bZfgiknM"
      },
      "source": [
        "## **Security of a One-Time Pad**\n",
        "\n",
        "**One way of measuring the security of a cipher is using Claude Shannon's definition of secrecy. If a hacker captures the ciphertext of an encryption method, they should not be able to decipher the plaintext from the ciphertext alone.**\n",
        "\n",
        "<br/>"
      ]
    },
    {
      "cell_type": "markdown",
      "metadata": {
        "id": "GwnOEu70XiSd"
      },
      "source": [
        "\n",
        "\n",
        "<h4><center><b>General Proof of Secrecy<b\\> <center\\><h4\\>\n",
        "\n",
        "<br/>\n",
        "\n",
        " $P[E(k, p_1) = c] = P[E(k, p_2) = c] \\ \\ \\forall \\ \\ p_1, p_2, ... p_n \\in \\mathcal{P} \\ \\ \\wedge \\ \\  \\forall \\ \\ c \\in \\mathcal{C}$\n",
        "\n",
        "\n",
        "\n"
      ]
    },
    {
      "cell_type": "markdown",
      "metadata": {
        "id": "uzj5QCS2idnZ"
      },
      "source": [
        "<br/>\n",
        "$\\text{Where}: \\mathcal{P} = \\text{Set of all plaintexts}, \\mathcal{K} = \\text{Set of all possible keys}, \\mathcal{C} = \\text{Set of all possible ciphertexts}$\n"
      ]
    },
    {
      "cell_type": "markdown",
      "metadata": {
        "id": "PZJXdqVMi4Cx"
      },
      "source": [
        "<h4><center><b>One-Time Pad Proof of Secrecy<b\\> <center\\><h4\\>\n",
        "\n",
        "<br/>\n",
        "\n",
        "- $\\forall \\ \\ p, c: P[E(k,p) = c] = \\frac{\\text{# of keys in }\\mathcal{K} \\ s.t. \\ E(k,p) = c}{\\mathcal{|K|}}$\n",
        "\n",
        "$\\text{Given $k$ chosen randomly}: P[E(k,p_0)=c] = P[E(k,p_1)=c] \\ \\ \\forall \\ \\ c \\in \\mathcal{C} \\ \\ \\wedge \\ \\ p \\in \\mathcal{P}$\n",
        "\n",
        "-  $\\text{length(k) $\\geq$ length(p)}$"
      ]
    },
    {
      "cell_type": "markdown",
      "metadata": {
        "id": "srVs-k0uiduW"
      },
      "source": [
        "**We can also take a look at an example of a one-time pad encryption. If we have a five letter word, \"hello\" that we want to encrypt using the one-time pad, if our encryption method is truly random and we can encrypt using each letter of the alphabet in English, there are: $26 * 26 * 26 * 26 * 26 \\approx 12$ million combinations!**"
      ]
    },
    {
      "cell_type": "markdown",
      "metadata": {
        "id": "LDkvjoTyHlI5"
      },
      "source": [
        "<sup>Source: Lecture - [Cryptography I](https://www.coursera.org/learn/crypto) Stanford Course by Dan Boneh</sup>\n",
        "\n",
        "<sup>Source: Video - [The one-time pad](https://www.youtube.com/watch?v=FlIG3TvQCBQ&t=32s) from Khan Academy</sup>\n",
        "\n",
        "\n"
      ]
    },
    {
      "cell_type": "markdown",
      "metadata": {
        "id": "t66E-EYgyzZR"
      },
      "source": [
        "# **One Time-Pad Encryption and Decryption**"
      ]
    },
    {
      "cell_type": "markdown",
      "metadata": {
        "id": "u2JCDc2PNhx2"
      },
      "source": [
        "$c = (p+k) \\  \\% \\text{ length(English Alphabet)}$"
      ]
    },
    {
      "cell_type": "markdown",
      "metadata": {
        "id": "3kGN4ldDOJuT"
      },
      "source": [
        "<sup>Source: Website - [One-time pad](https://en.wikipedia.org/wiki/One-time_pad) from Wikipedia</sup>"
      ]
    },
    {
      "cell_type": "code",
      "metadata": {
        "id": "fO-yWqWTFlcB"
      },
      "source": [
        "def otp(message):\n",
        "  plain_dict = {index: letter for index, letter in enumerate(string.ascii_lowercase)}\n",
        "  inv_dict = {letter:index for index, letter in plain_dict.items()}\n",
        "  message = message.lower()\n",
        "  message = ''.join(letter for letter in message if letter.isalnum())\n",
        "  key = []\n",
        "\n",
        "  while len(key) < len(message):\n",
        "    key.append(secrets.choice(range(0,len(plain_dict))))\n",
        "\n",
        "  encrypt_list = [(inv_dict[let]+ind)%len(plain_dict) for let, ind in zip(message,key)]\n",
        "\n",
        "  return [''.join([plain_dict[ind] for ind in encrypt_list]), key]"
      ],
      "execution_count": 2,
      "outputs": []
    },
    {
      "cell_type": "code",
      "metadata": {
        "id": "gNd-fukmzcpp",
        "colab": {
          "base_uri": "https://localhost:8080/"
        },
        "outputId": "6320cd29-6d3f-4e16-970f-74346c0b18a9"
      },
      "source": [
        "otp_encryption = otp('Hello world my name is adrian!')\n",
        "\n",
        "otp_cipher = otp_encryption[0]\n",
        "otp_key = otp_encryption[1]\n",
        "\n",
        "print(f'The one time pad cipher text: {otp_cipher}')"
      ],
      "execution_count": 3,
      "outputs": [
        {
          "output_type": "stream",
          "text": [
            "The one time pad cipher text: zjjlpxnhapfzcgjblqzjtmol\n"
          ],
          "name": "stdout"
        }
      ]
    },
    {
      "cell_type": "markdown",
      "metadata": {
        "id": "RzZTriYxOnOz"
      },
      "source": [
        "$p = (c-k) \\  \\% \\text{ length(English Alphabet)}$"
      ]
    },
    {
      "cell_type": "markdown",
      "metadata": {
        "id": "LuIdl4onOcYW"
      },
      "source": [
        "<sup>Source: Website - [One-time pad](https://en.wikipedia.org/wiki/One-time_pad) from Wikipedia</sup>"
      ]
    },
    {
      "cell_type": "code",
      "metadata": {
        "id": "GWgy9nEsfVNp"
      },
      "source": [
        "def otp_decryption(cipher_text, key):\n",
        "  plain_dict = {index: letter for index, letter in enumerate(string.ascii_lowercase)}\n",
        "  inv_dict = {letter:index for index, letter in plain_dict.items()}\n",
        "  cipher_list = [inv_dict[let] for let in cipher_text]\n",
        "  \n",
        "  return ''.join([plain_dict[(c_index-key_index)%26] for c_index,key_index in zip(cipher_list, key)])"
      ],
      "execution_count": 4,
      "outputs": []
    },
    {
      "cell_type": "code",
      "metadata": {
        "colab": {
          "base_uri": "https://localhost:8080/",
          "height": 36
        },
        "id": "191FDuw3IP_0",
        "outputId": "2c584987-f975-4bf5-d217-475e70df2182"
      },
      "source": [
        "otp_decryption(otp_cipher, otp_key)"
      ],
      "execution_count": 5,
      "outputs": [
        {
          "output_type": "execute_result",
          "data": {
            "application/vnd.google.colaboratory.intrinsic+json": {
              "type": "string"
            },
            "text/plain": [
              "'helloworldmynameisadrian'"
            ]
          },
          "metadata": {
            "tags": []
          },
          "execution_count": 5
        }
      ]
    },
    {
      "cell_type": "code",
      "metadata": {
        "colab": {
          "base_uri": "https://localhost:8080/"
        },
        "id": "g4txxkAqI-J4",
        "outputId": "5ea7c37d-ee58-4509-c742-155313eeb128"
      },
      "source": [
        "len(otp_key) == len(otp_decryption(otp_cipher, otp_key))"
      ],
      "execution_count": 6,
      "outputs": [
        {
          "output_type": "execute_result",
          "data": {
            "text/plain": [
              "True"
            ]
          },
          "metadata": {
            "tags": []
          },
          "execution_count": 6
        }
      ]
    },
    {
      "cell_type": "markdown",
      "metadata": {
        "id": "1D-6cx1Ef_F-"
      },
      "source": [
        "# **Problems with the One-Time Pad**"
      ]
    },
    {
      "cell_type": "markdown",
      "metadata": {
        "id": "wkG3iFBwcyzL"
      },
      "source": [
        "## **Insecurity of Multiple Time Pad**"
      ]
    },
    {
      "cell_type": "code",
      "metadata": {
        "id": "z7nN_-rRkUyU"
      },
      "source": [
        "plain_dict = {index: letter for index, letter in enumerate(string.ascii_lowercase)}\n",
        "inv_dict = {letter:index for index, letter in plain_dict.items()}"
      ],
      "execution_count": 7,
      "outputs": []
    },
    {
      "cell_type": "code",
      "metadata": {
        "id": "dAb1UJ7Ukheb"
      },
      "source": [
        "message_1 = 'himom'\n",
        "message_2 = 'hidad'\n",
        "key = [11,4,6,3,6,17]"
      ],
      "execution_count": 8,
      "outputs": []
    },
    {
      "cell_type": "code",
      "metadata": {
        "id": "IdTp7Q8Fnc-P",
        "colab": {
          "base_uri": "https://localhost:8080/"
        },
        "outputId": "2350cd98-335e-430a-be4d-28e4be2bfbfa"
      },
      "source": [
        "en_m1 = ''.join([plain_dict[ind] for ind in [(inv_dict[let]+ind)%len(plain_dict) for let, ind in zip(message_1,key)]])\n",
        "en_m2 = ''.join([plain_dict[ind] for ind in [(inv_dict[let]+ind)%len(plain_dict) for let, ind in zip(message_2,key)]])\n",
        "\n",
        "print(f'Encrypted Message 1: {en_m1}\\nEncrypted Message 2: {en_m2}')"
      ],
      "execution_count": 9,
      "outputs": [
        {
          "output_type": "stream",
          "text": [
            "Encrypted Message 1: smsrs\n",
            "Encrypted Message 2: smjdj\n"
          ],
          "name": "stdout"
        }
      ]
    },
    {
      "cell_type": "code",
      "metadata": {
        "id": "npFU966ypkrt"
      },
      "source": [
        "dict_attack_2l = ['of', 'to', 'in', 'it', 'is', 'be', 'as', 'at', 'so', 'we', 'he', 'hi', 'by', 'or', 'on', 'do', 'if', 'me', 'my', 'up', 'an', 'go', 'no', 'us', 'am']\n",
        "dict_attack_3l = ['all', 'and', 'are', 'but', 'dad', 'mom', 'way']\n",
        "bigram_list = ['no way', 'to all', 'to dad', 'to mom', 'in all', 'is all', 'so are', 'we are', 'he and', 'hi all', 'hi mom', 'hi dad', 'by all', 'do all', 'do and', 'if all', 'if and', 'my all',\n",
        "               'my dad', 'my mom']"
      ],
      "execution_count": 10,
      "outputs": []
    },
    {
      "cell_type": "code",
      "metadata": {
        "id": "KzuBXATdp3P4"
      },
      "source": [
        "cracking_list_2l = []\n",
        "\n",
        "for i in range(0,26):\n",
        "  for j in range(0,26):\n",
        "    cracking_list_2l.append([plain_dict[i] + plain_dict[j], [i,j]])\n",
        "\n",
        "possible_2l_word = []\n",
        "\n",
        "for i in cracking_list_2l:\n",
        "  if i[0] in dict_attack_2l:\n",
        "    possible_2l_word.append([i[0], i[1]])\n",
        "  else:\n",
        "    pass"
      ],
      "execution_count": 11,
      "outputs": []
    },
    {
      "cell_type": "code",
      "metadata": {
        "id": "olrHx-lUp--U"
      },
      "source": [
        "cracking_list_3l = []\n",
        "\n",
        "for i in range(0,26):\n",
        "  for j in range(0,26):\n",
        "    for k in range(0,26):\n",
        "      cracking_list_3l.append([plain_dict[i] + plain_dict[j] + plain_dict[k], [i,j,k]])\n",
        "\n",
        "possible_3l_word = []\n",
        "\n",
        "for i in cracking_list_3l:\n",
        "  if i[0] in dict_attack_3l:\n",
        "    possible_3l_word.append([i[0], i[1]])\n",
        "  else:\n",
        "    pass"
      ],
      "execution_count": 12,
      "outputs": []
    },
    {
      "cell_type": "code",
      "metadata": {
        "id": "FxcN9WPLwsbN",
        "colab": {
          "base_uri": "https://localhost:8080/"
        },
        "outputId": "b1921bd8-729d-41e5-9f42-4c03d5e36a8b"
      },
      "source": [
        "possible_2l_word"
      ],
      "execution_count": 13,
      "outputs": [
        {
          "output_type": "execute_result",
          "data": {
            "text/plain": [
              "[['am', [0, 12]],\n",
              " ['an', [0, 13]],\n",
              " ['as', [0, 18]],\n",
              " ['at', [0, 19]],\n",
              " ['be', [1, 4]],\n",
              " ['by', [1, 24]],\n",
              " ['do', [3, 14]],\n",
              " ['go', [6, 14]],\n",
              " ['he', [7, 4]],\n",
              " ['hi', [7, 8]],\n",
              " ['if', [8, 5]],\n",
              " ['in', [8, 13]],\n",
              " ['is', [8, 18]],\n",
              " ['it', [8, 19]],\n",
              " ['me', [12, 4]],\n",
              " ['my', [12, 24]],\n",
              " ['no', [13, 14]],\n",
              " ['of', [14, 5]],\n",
              " ['on', [14, 13]],\n",
              " ['or', [14, 17]],\n",
              " ['so', [18, 14]],\n",
              " ['to', [19, 14]],\n",
              " ['up', [20, 15]],\n",
              " ['us', [20, 18]],\n",
              " ['we', [22, 4]]]"
            ]
          },
          "metadata": {
            "tags": []
          },
          "execution_count": 13
        }
      ]
    },
    {
      "cell_type": "code",
      "metadata": {
        "colab": {
          "base_uri": "https://localhost:8080/"
        },
        "id": "gQaXsSxpu_VZ",
        "outputId": "e1898558-6249-4bdd-aa4e-eda4573365a6"
      },
      "source": [
        "possible_3l_word"
      ],
      "execution_count": 14,
      "outputs": [
        {
          "output_type": "execute_result",
          "data": {
            "text/plain": [
              "[['all', [0, 11, 11]],\n",
              " ['and', [0, 13, 3]],\n",
              " ['are', [0, 17, 4]],\n",
              " ['but', [1, 20, 19]],\n",
              " ['dad', [3, 0, 3]],\n",
              " ['mom', [12, 14, 12]],\n",
              " ['way', [22, 0, 24]]]"
            ]
          },
          "metadata": {
            "tags": []
          },
          "execution_count": 14
        }
      ]
    },
    {
      "cell_type": "code",
      "metadata": {
        "id": "qFQeZzQpv5BV"
      },
      "source": [
        "possible_phrases = []\n",
        "\n",
        "for word_1 in possible_2l_word:\n",
        "  for word_2 in possible_3l_word:\n",
        "    if (word_1[0] + \" \" + word_2[0]) in bigram_list:\n",
        "      possible_phrases.append(word_1[0] + word_2[0])"
      ],
      "execution_count": 15,
      "outputs": []
    },
    {
      "cell_type": "code",
      "metadata": {
        "id": "NN8GN30aw5bc"
      },
      "source": [
        "decrypt_list = []\n",
        "\n",
        "for word in possible_phrases:\n",
        "  decrypt_list.append([inv_dict[letter] for letter in word])"
      ],
      "execution_count": 16,
      "outputs": []
    },
    {
      "cell_type": "code",
      "metadata": {
        "id": "GWZy2Hxox6Sq",
        "colab": {
          "base_uri": "https://localhost:8080/"
        },
        "outputId": "a5726fa7-cb8f-4214-925c-60dfdc14933d"
      },
      "source": [
        "decrypt_list"
      ],
      "execution_count": 17,
      "outputs": [
        {
          "output_type": "execute_result",
          "data": {
            "text/plain": [
              "[[1, 24, 0, 11, 11],\n",
              " [3, 14, 0, 11, 11],\n",
              " [3, 14, 0, 13, 3],\n",
              " [7, 4, 0, 13, 3],\n",
              " [7, 8, 0, 11, 11],\n",
              " [7, 8, 3, 0, 3],\n",
              " [7, 8, 12, 14, 12],\n",
              " [8, 5, 0, 11, 11],\n",
              " [8, 5, 0, 13, 3],\n",
              " [8, 13, 0, 11, 11],\n",
              " [8, 18, 0, 11, 11],\n",
              " [12, 24, 0, 11, 11],\n",
              " [12, 24, 3, 0, 3],\n",
              " [12, 24, 12, 14, 12],\n",
              " [13, 14, 22, 0, 24],\n",
              " [18, 14, 0, 17, 4],\n",
              " [19, 14, 0, 11, 11],\n",
              " [19, 14, 3, 0, 3],\n",
              " [19, 14, 12, 14, 12],\n",
              " [22, 4, 0, 17, 4]]"
            ]
          },
          "metadata": {
            "tags": []
          },
          "execution_count": 17
        }
      ]
    },
    {
      "cell_type": "code",
      "metadata": {
        "id": "hUv4ax2ASdBM"
      },
      "source": [
        "en_m1_ind = [inv_dict[letter] for letter in en_m1]\n",
        "en_m2_ind = [inv_dict[letter] for letter in en_m2]"
      ],
      "execution_count": 18,
      "outputs": []
    },
    {
      "cell_type": "code",
      "metadata": {
        "id": "ytpdqBe5Svs5"
      },
      "source": [
        "possible_keys = []\n",
        "\n",
        "for num_list in decrypt_list:\n",
        "  possible_keys.append([x1 - x2 for x1, x2 in zip(en_m1_ind, num_list)])"
      ],
      "execution_count": 19,
      "outputs": []
    },
    {
      "cell_type": "code",
      "metadata": {
        "colab": {
          "base_uri": "https://localhost:8080/"
        },
        "id": "3cVqggBkT7ts",
        "outputId": "ac10e851-2ef9-4437-a85f-d2e758f66f73"
      },
      "source": [
        "possible_keys"
      ],
      "execution_count": 20,
      "outputs": [
        {
          "output_type": "execute_result",
          "data": {
            "text/plain": [
              "[[17, -12, 18, 6, 7],\n",
              " [15, -2, 18, 6, 7],\n",
              " [15, -2, 18, 4, 15],\n",
              " [11, 8, 18, 4, 15],\n",
              " [11, 4, 18, 6, 7],\n",
              " [11, 4, 15, 17, 15],\n",
              " [11, 4, 6, 3, 6],\n",
              " [10, 7, 18, 6, 7],\n",
              " [10, 7, 18, 4, 15],\n",
              " [10, -1, 18, 6, 7],\n",
              " [10, -6, 18, 6, 7],\n",
              " [6, -12, 18, 6, 7],\n",
              " [6, -12, 15, 17, 15],\n",
              " [6, -12, 6, 3, 6],\n",
              " [5, -2, -4, 17, -6],\n",
              " [0, -2, 18, 0, 14],\n",
              " [-1, -2, 18, 6, 7],\n",
              " [-1, -2, 15, 17, 15],\n",
              " [-1, -2, 6, 3, 6],\n",
              " [-4, 8, 18, 0, 14]]"
            ]
          },
          "metadata": {
            "tags": []
          },
          "execution_count": 20
        }
      ]
    },
    {
      "cell_type": "code",
      "metadata": {
        "id": "x51NXgqFgztM"
      },
      "source": [
        "final_list = []\n",
        "\n",
        "for key in possible_keys:\n",
        "  if any(num < 0 for num in key):\n",
        "    pass\n",
        "  else:\n",
        "    final_list.append(key)"
      ],
      "execution_count": 21,
      "outputs": []
    },
    {
      "cell_type": "code",
      "metadata": {
        "id": "G1CUN6K_h4Dn"
      },
      "source": [
        ""
      ],
      "execution_count": 21,
      "outputs": []
    },
    {
      "cell_type": "code",
      "metadata": {
        "colab": {
          "base_uri": "https://localhost:8080/"
        },
        "id": "rUB4XSrFZ_Rg",
        "outputId": "d6704c34-a241-401a-eefe-22d43a7400ef"
      },
      "source": [
        "for key in final_list:\n",
        "  try:\n",
        "    print(''.join([plain_dict[ind] for ind in [x1 - x2 for x1, x2 in zip(en_m1_ind, key)]]), ''.join([plain_dict[ind] for ind in [x1 - x2 for x1, x2 in zip(en_m2_ind, key)]]), key)\n",
        "  except:\n",
        "    pass"
      ],
      "execution_count": 22,
      "outputs": [
        {
          "output_type": "stream",
          "text": [
            "himom hidad [11, 4, 6, 3, 6]\n"
          ],
          "name": "stdout"
        }
      ]
    },
    {
      "cell_type": "markdown",
      "metadata": {
        "id": "RMYCjXbJdbF1"
      },
      "source": [
        "### **Verify that the cipher has been cracked**\n",
        "\n",
        "$C_1 \\oplus C_2 = P_1 \\oplus P_2$"
      ]
    },
    {
      "cell_type": "code",
      "metadata": {
        "colab": {
          "base_uri": "https://localhost:8080/"
        },
        "id": "WzmI0zNoadaX",
        "outputId": "f0752ed4-534f-4a56-e610-2fc5f19d93f5"
      },
      "source": [
        "#check to see if we cracked it\n",
        "for i,j in zip(en_m1, en_m2):\n",
        "  print((inv_dict[i]-inv_dict[j])%26)"
      ],
      "execution_count": 23,
      "outputs": [
        {
          "output_type": "stream",
          "text": [
            "0\n",
            "0\n",
            "9\n",
            "14\n",
            "9\n"
          ],
          "name": "stdout"
        }
      ]
    },
    {
      "cell_type": "code",
      "metadata": {
        "colab": {
          "base_uri": "https://localhost:8080/"
        },
        "id": "vhuV6Btfa8m3",
        "outputId": "50b06a97-97d3-45e1-e4a8-34decc289072"
      },
      "source": [
        "for i,j in zip('himom', 'hidad'):\n",
        "  print((inv_dict[i]-inv_dict[j])%26)"
      ],
      "execution_count": 24,
      "outputs": [
        {
          "output_type": "stream",
          "text": [
            "0\n",
            "0\n",
            "9\n",
            "14\n",
            "9\n"
          ],
          "name": "stdout"
        }
      ]
    },
    {
      "cell_type": "markdown",
      "metadata": {
        "id": "Q2pmD1lWXOHI"
      },
      "source": [
        "## **Length of the One-Time Pad Key**\n",
        "\n",
        "**Another issue with the one-time pad is that the length of the key must be as long as the length of the data that is being encrypted. This becomes an issue with large sets of data. If a terabyte of text data needs to be encrypted then a one-time pad's key needs to be a terabyte as well.**\n",
        "\n",
        "<sup>Source: Lecture - [Cryptography I](https://www.coursera.org/learn/crypto) Stanford Course by Dan Boneh</sup>"
      ]
    },
    {
      "cell_type": "markdown",
      "metadata": {
        "id": "5mXyqb4fIA9V"
      },
      "source": [
        "# **References and Additional Learning**"
      ]
    },
    {
      "cell_type": "markdown",
      "metadata": {
        "id": "j0pEP1CCIXbR"
      },
      "source": [
        "## **Lectures**\n",
        "\n",
        "- **[Introduction to Cryptography](https://www.cs.purdue.edu/homes/ninghui/courses/Fall05/lectures/355_Fall05_lect09.pdf) from Purdue University by Ninghui Li**\n",
        "\n",
        "- **[Perfect Secrecy, One Time Pad, Randomness](https://www.cs.umd.edu/~gasarch/COURSES/456/F18/lecps/lecps.pdf) University of Maryland Course by William Gasarch**"
      ]
    },
    {
      "cell_type": "markdown",
      "metadata": {
        "id": "UJrHZDOHIE05"
      },
      "source": [
        "## **Online Courses**\n",
        "\n",
        "- **[Master Modern Security and Cryptography by Coding in Python](https://www.udemy.com/course/learn-modern-security-and-cryptography-by-coding-in-python/), Udemy course by Rune Thomsen**\n",
        "\n",
        "- **[Cryptography I](https://www.coursera.org/learn/crypto) Stanford Course by Dan Boneh**\n",
        "\n",
        "- **[Cryptography](https://www.khanacademy.org/computing/computer-science/cryptography), Khan Academy Course Unit**"
      ]
    },
    {
      "cell_type": "markdown",
      "metadata": {
        "id": "9u-QHT8vII7K"
      },
      "source": [
        "## **Textbooks**\n",
        "- **[Implementing Cryptography Using Python](https://www.amazon.com/Implementing-Cryptography-Using-Python-Shannon/dp/1119612209/ref=sr_1_1?dchild=1&keywords=Implementing+Cryptography+Using+Python&qid=1609360861&s=books&sr=1-1) by Shannon Bray**\n",
        "- **[Practical Cryptography in Python: Learning Correct Cryptography by Example](https://www.amazon.com/Practical-Cryptography-Python-Learning-Correct/dp/1484248996/ref=sr_1_1?crid=1GKREMIFL2A0Y&dchild=1&keywords=practical+cryptography+in+python&qid=1609360771&s=books&sprefix=Practical+Cryptography+in+Python%2Cstripbooks%2C134&sr=1-1) by  Seth James Nielson and Christopher Monson**\n",
        "- **[Black Hat Python](https://www.amazon.com/Black-Hat-Python-Programming-Pentesters/dp/1593275900) by Justin Seitz**"
      ]
    },
    {
      "cell_type": "markdown",
      "metadata": {
        "id": "7eX8EHKLIOSd"
      },
      "source": [
        "# **Connect**\n",
        "- **Feel free to connect with Adrian on [YouTube](https://www.youtube.com/channel/UCPuDxI3xb_ryUUMfkm0jsRA), [LinkedIn](https://www.linkedin.com/in/adrian-dolinay-frm-96a289106/), [Twitter](https://twitter.com/DolinayG) and [GitHub](https://github.com/ad17171717). Happy coding!**"
      ]
    }
  ]
}